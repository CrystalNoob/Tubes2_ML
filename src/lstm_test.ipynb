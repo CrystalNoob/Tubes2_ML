{
 "cells": [
  {
   "cell_type": "code",
   "execution_count": 589,
   "id": "8e380dea",
   "metadata": {},
   "outputs": [],
   "source": [
    "import keras\n",
    "import numpy as np\n",
    "import lstm"
   ]
  },
  {
   "cell_type": "code",
   "execution_count": null,
   "id": "6f7689db",
   "metadata": {},
   "outputs": [],
   "source": [
    "import numpy as np\n",
    "from numpy.typing import NDArray\n",
    "from typing import Callable, Tuple\n",
    "from keras.src.backend import Variable\n",
    "import keras\n",
    "\n",
    "class LSTMScratch():\n",
    "    def __init__(\n",
    "            self,\n",
    "            units: int, # neuron\n",
    "            keras_weight: list[Variable],\n",
    "            activation: Callable[[NDArray[np.float64]], NDArray[np.float64]] = np.tanh, # activation function\n",
    "    ):\n",
    "        # self.input_feature = input_feature\n",
    "        self.units = units\n",
    "        self.kernel, self.recurrent_kernel, self.bias = keras_weight\n",
    "        self.h_t = []\n",
    "        self.c_t = []\n",
    "        self.activation = activation\n",
    "\n",
    "    def fit(self, input_feature: NDArray[np.float64]):\n",
    "        self.input_feature = input_feature\n",
    "\n",
    "    def predict(self, input_feature):\n",
    "        sample = input_feature.shape[0]\n",
    "        timestep = input_feature.shape[1]\n",
    "        for i in range(sample):\n",
    "            current_sample = input_feature[i]\n",
    "            self.temp_h = [np.zeros(self.units)]\n",
    "            self.temp_c = [np.zeros(self.units)]\n",
    "\n",
    "            for j in range(timestep):\n",
    "                h_t, c_t = self.calc(current_sample[j]) \n",
    "                self.temp_h.append(h_t)\n",
    "                self.temp_c.append(c_t)\n",
    "                \n",
    "            self.h_t.append(self.temp_h[-1])\n",
    "            self.c_t.append(self.temp_c[-1])\n",
    "        return self.h_t\n",
    "\n",
    "    def calc(self, x_t: NDArray[np.float64]):\n",
    "        w_dot_x = x_t @ self.kernel\n",
    "        u_dot_h = self.temp_h[-1] @ self.recurrent_kernel\n",
    "        result = w_dot_x + u_dot_h + self.bias \n",
    "        k_i, k_f, k_c, k_o = np.split(result, 4, axis=0)\n",
    "\n",
    "        i_t, f_t, o_t = self.sigmoid(k_i), self.sigmoid(k_f), self.sigmoid(k_o)\n",
    "\n",
    "        c_tilde = self.activation(k_c)\n",
    "        c_t = f_t * self.temp_c[-1] + i_t * c_tilde\n",
    "        \n",
    "        h_t = o_t * self.activation(c_t)\n",
    "\n",
    "        return h_t, c_t     \n",
    "\n",
    "    def sigmoid(self, x):\n",
    "        return 1/(1+np.exp(-x))\n"
   ]
  },
  {
   "cell_type": "code",
   "execution_count": 591,
   "id": "be13a648",
   "metadata": {},
   "outputs": [],
   "source": [
    "model = keras.models.Sequential()\n",
    "model.add(keras.layers.LSTM(5))"
   ]
  },
  {
   "cell_type": "code",
   "execution_count": 592,
   "id": "590d0a18",
   "metadata": {},
   "outputs": [],
   "source": [
    "X = np.random.rand(100, 10, 2)\n",
    "y = np.random.rand(100, 1)"
   ]
  },
  {
   "cell_type": "code",
   "execution_count": 593,
   "id": "32fd8eba",
   "metadata": {},
   "outputs": [
    {
     "name": "stdout",
     "output_type": "stream",
     "text": [
      "\u001b[1m7/7\u001b[0m \u001b[32m━━━━━━━━━━━━━━━━━━━━\u001b[0m\u001b[37m\u001b[0m \u001b[1m5s\u001b[0m 21ms/step - loss: 0.2729\n",
      "\u001b[1m1/1\u001b[0m \u001b[32m━━━━━━━━━━━━━━━━━━━━\u001b[0m\u001b[37m\u001b[0m \u001b[1m0s\u001b[0m 340ms/step\n",
      "[[-0.07914722  0.10596047  0.15951104 -0.05299308  0.25708398]\n",
      " [-0.10937162  0.09978107  0.07487479 -0.10140178  0.21825519]\n",
      " [-0.01154017  0.09046099  0.2632015   0.02523003  0.24131078]\n",
      " [-0.05898477  0.10594369  0.1677576  -0.01779553  0.2604927 ]\n",
      " [-0.09300096  0.12508826  0.01759547 -0.06021696  0.23288158]]\n"
     ]
    }
   ],
   "source": [
    "model.compile(optimizer=\"adam\", loss=\"mse\")\n",
    "model.fit(X, y, epochs=1, batch_size=16)\n",
    "pred = model.predict(X[:5])\n",
    "print(pred)"
   ]
  },
  {
   "cell_type": "code",
   "execution_count": 594,
   "id": "bc503c94",
   "metadata": {},
   "outputs": [],
   "source": [
    "# model.summary()\n",
    "# model.layers\n",
    "# for i in model.layers:\n",
    "#     for j in i.weights:\n",
    "#         print(type(j))"
   ]
  },
  {
   "cell_type": "code",
   "execution_count": 595,
   "id": "1be0a756",
   "metadata": {},
   "outputs": [],
   "source": [
    "weight = model.get_weights()"
   ]
  },
  {
   "cell_type": "code",
   "execution_count": 596,
   "id": "2620df93",
   "metadata": {},
   "outputs": [],
   "source": [
    "# arr = np.array([[1,2], [3,4], [9, 9]])\n",
    "x = LSTMScratch(5, weight)"
   ]
  },
  {
   "cell_type": "code",
   "execution_count": 597,
   "id": "5cbde2a7",
   "metadata": {},
   "outputs": [
    {
     "data": {
      "text/plain": [
       "[array([-0.07914724,  0.10596048,  0.15951111, -0.05299309,  0.25708405]),\n",
       " array([-0.10937164,  0.09978109,  0.07487484, -0.1014018 ,  0.21825527]),\n",
       " array([-0.01154016,  0.09046099,  0.26320151,  0.02523003,  0.24131081]),\n",
       " array([-0.05898479,  0.10594371,  0.16775764, -0.01779553,  0.26049276]),\n",
       " array([-0.09300098,  0.1250883 ,  0.01759547, -0.06021696,  0.23288164])]"
      ]
     },
     "execution_count": 597,
     "metadata": {},
     "output_type": "execute_result"
    }
   ],
   "source": [
    "x.predict(X[:5])"
   ]
  }
 ],
 "metadata": {
  "kernelspec": {
   "display_name": "Python 3",
   "language": "python",
   "name": "python3"
  },
  "language_info": {
   "codemirror_mode": {
    "name": "ipython",
    "version": 3
   },
   "file_extension": ".py",
   "mimetype": "text/x-python",
   "name": "python",
   "nbconvert_exporter": "python",
   "pygments_lexer": "ipython3",
   "version": "3.11.9"
  }
 },
 "nbformat": 4,
 "nbformat_minor": 5
}
