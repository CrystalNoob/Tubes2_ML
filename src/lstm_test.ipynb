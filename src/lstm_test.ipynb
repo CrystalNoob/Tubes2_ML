{
 "cells": [
  {
   "cell_type": "code",
   "execution_count": 371,
   "id": "8e380dea",
   "metadata": {},
   "outputs": [],
   "source": [
    "import keras\n",
    "import numpy as np\n",
    "import lstm"
   ]
  },
  {
   "cell_type": "code",
   "execution_count": null,
   "id": "6f7689db",
   "metadata": {},
   "outputs": [],
   "source": [
    "import numpy as np\n",
    "from numpy.typing import NDArray\n",
    "from typing import Callable, Tuple\n",
    "from keras.src.backend import Variable\n",
    "import keras\n",
    "\n",
    "class LSTMScratch():\n",
    "    def __init__(\n",
    "            self,\n",
    "            units: int, # neuron\n",
    "            keras_weight: list[Variable],\n",
    "            activation: Callable[[NDArray[np.float64]], NDArray[np.float64]] = np.tanh, # activation function\n",
    "    ):\n",
    "        # self.input_feature = input_feature\n",
    "        self.kernel, self.recurrent_kernel, self.bias = keras_weight\n",
    "        self.h_t = [np.zeros(units)]\n",
    "        self.c_t = [np.zeros(units)]\n",
    "        self.activation = activation\n",
    "\n",
    "    def predict(self, input_feature):\n",
    "        timestep = input_feature.shape[1]\n",
    "        sample = input_feature.shape[0]\n",
    "        for i in range(sample):\n",
    "            current_sample = input_feature[i]\n",
    "            temp_h = []\n",
    "            temp_c = []\n",
    "            for j in range(timestep):\n",
    "                h_t, c_t = self.calc(current_sample[j]) \n",
    "                temp_h.append(h_t)\n",
    "                temp_c.append(c_t)\n",
    "            self.h_t.append(temp_h)\n",
    "            self.h_t.append(temp_c)\n",
    "            \n",
    "        return self.h_t[-1]\n",
    "\n",
    "    def calc(self, x_t: NDArray[np.float64]):\n",
    "        w_dot_x = x_t @ self.kernel\n",
    "        u_dot_h = self.h_t[-1] @ self.recurrent_kernel\n",
    "        result = w_dot_x + u_dot_h + self.bias \n",
    "        k_i, k_f, k_c, k_o = np.split(result, 4, axis=0)\n",
    "\n",
    "        i_t, f_t, o_t = self.sigmoid(k_i), self.sigmoid(k_f), self.sigmoid(k_o)\n",
    "\n",
    "        c_tilde = self.activation(k_c)\n",
    "        c_t = f_t * self.c_t[-1] + i_t * c_tilde\n",
    "        \n",
    "        h_t = o_t * self.activation(c_t)\n",
    "\n",
    "        return h_t, c_t     \n",
    "\n",
    "    def sigmoid(self, x):\n",
    "        return 1/(1+np.exp(-x))\n"
   ]
  },
  {
   "cell_type": "code",
   "execution_count": 373,
   "id": "be13a648",
   "metadata": {},
   "outputs": [],
   "source": [
    "model = keras.models.Sequential()\n",
    "model.add(keras.layers.LSTM(5))"
   ]
  },
  {
   "cell_type": "code",
   "execution_count": 374,
   "id": "590d0a18",
   "metadata": {},
   "outputs": [],
   "source": [
    "X = np.random.rand(100, 10, 2)\n",
    "y = np.random.rand(100, 1)"
   ]
  },
  {
   "cell_type": "code",
   "execution_count": 375,
   "id": "32fd8eba",
   "metadata": {},
   "outputs": [
    {
     "name": "stdout",
     "output_type": "stream",
     "text": [
      "Epoch 1/5\n",
      "\u001b[1m7/7\u001b[0m \u001b[32m━━━━━━━━━━━━━━━━━━━━\u001b[0m\u001b[37m\u001b[0m \u001b[1m4s\u001b[0m 10ms/step - loss: 0.4525\n",
      "Epoch 2/5\n",
      "\u001b[1m7/7\u001b[0m \u001b[32m━━━━━━━━━━━━━━━━━━━━\u001b[0m\u001b[37m\u001b[0m \u001b[1m0s\u001b[0m 19ms/step - loss: 0.4393\n",
      "Epoch 3/5\n",
      "\u001b[1m7/7\u001b[0m \u001b[32m━━━━━━━━━━━━━━━━━━━━\u001b[0m\u001b[37m\u001b[0m \u001b[1m0s\u001b[0m 18ms/step - loss: 0.4148\n",
      "Epoch 4/5\n",
      "\u001b[1m7/7\u001b[0m \u001b[32m━━━━━━━━━━━━━━━━━━━━\u001b[0m\u001b[37m\u001b[0m \u001b[1m0s\u001b[0m 19ms/step - loss: 0.3918\n",
      "Epoch 5/5\n",
      "\u001b[1m7/7\u001b[0m \u001b[32m━━━━━━━━━━━━━━━━━━━━\u001b[0m\u001b[37m\u001b[0m \u001b[1m0s\u001b[0m 16ms/step - loss: 0.3866\n",
      "\u001b[1m1/1\u001b[0m \u001b[32m━━━━━━━━━━━━━━━━━━━━\u001b[0m\u001b[37m\u001b[0m \u001b[1m0s\u001b[0m 356ms/step\n",
      "[[-0.17868511 -0.0073087   0.04492623 -0.2070542   0.33834067]\n",
      " [-0.1722766   0.08218046 -0.07089911 -0.27539545  0.35626215]\n",
      " [-0.11461253  0.03432412 -0.02614582 -0.19594355  0.33535776]\n",
      " [-0.15979825  0.03069684 -0.00911366 -0.2144333   0.32882914]\n",
      " [-0.18552595 -0.06563866  0.10684092 -0.26994315  0.4476928 ]]\n"
     ]
    }
   ],
   "source": [
    "model.compile(optimizer=\"adam\", loss=\"mse\")\n",
    "model.fit(X, y, epochs=5, batch_size=16)\n",
    "pred = model.predict(X[:5])\n",
    "print(pred)"
   ]
  },
  {
   "cell_type": "code",
   "execution_count": 376,
   "id": "bc503c94",
   "metadata": {},
   "outputs": [],
   "source": [
    "# model.summary()\n",
    "# model.layers\n",
    "# for i in model.layers:\n",
    "#     for j in i.weights:\n",
    "#         print(type(j))"
   ]
  },
  {
   "cell_type": "code",
   "execution_count": 377,
   "id": "1be0a756",
   "metadata": {},
   "outputs": [
    {
     "name": "stdout",
     "output_type": "stream",
     "text": [
      "[<Variable path=sequential_37/lstm_37/lstm_cell/kernel, shape=(2, 20), dtype=float32, value=[[ 0.08214381 -0.00814943  0.02216865 -0.18522549  0.3427284  -0.17373887\n",
      "  -0.23386706  0.48221728  0.00997036 -0.39361897 -0.163952    0.19975011\n",
      "  -0.3456993  -0.4275032   0.37185118 -0.0607361   0.3855842   0.04948305\n",
      "   0.43183735  0.3125835 ]\n",
      " [-0.07338985 -0.04773314  0.3708444  -0.4353899   0.23260866  0.29511324\n",
      "  -0.44118047  0.2067154  -0.02895414  0.14113814 -0.23774779 -0.40696552\n",
      "   0.3884269  -0.4737121   0.5098203  -0.5450622   0.03170464  0.18599223\n",
      "  -0.23330691  0.2636408 ]]>, <Variable path=sequential_37/lstm_37/lstm_cell/recurrent_kernel, shape=(5, 20), dtype=float32, value=[[-0.13173716  0.12096208  0.30459633 -0.13839608 -0.51484233 -0.13614663\n",
      "  -0.0721954  -0.24811144  0.08031714 -0.0181589  -0.03040656 -0.08328062\n",
      "  -0.28515884  0.14050317  0.11976752  0.06207029  0.16015942  0.01128154\n",
      "  -0.12045991  0.56238437]\n",
      " [-0.00713899  0.01314056 -0.18692902  0.47736585 -0.18698472 -0.09997651\n",
      "   0.43094635  0.0321051  -0.16176723  0.24872264  0.04757523 -0.17583749\n",
      "   0.1118675  -0.1856548   0.27417466 -0.01600306  0.11280134 -0.49969143\n",
      "   0.08286225  0.14666024]\n",
      " [-0.13437532  0.00367712 -0.18196575  0.49618828  0.12239553 -0.2141679\n",
      "   0.03191297 -0.04930027  0.25885996 -0.09710791 -0.10224184  0.03510254\n",
      "  -0.3072875   0.11881092 -0.11824568 -0.38969213  0.4318418   0.3299936\n",
      "  -0.06872587 -0.05843494]\n",
      " [-0.06205111  0.14828952  0.25312173  0.04260984  0.17249565  0.06045109\n",
      "  -0.1940101   0.57168114  0.09325132  0.66293997 -0.0853807  -0.01111689\n",
      "  -0.10174764 -0.05853315 -0.04593595 -0.07023573  0.0532652   0.08561021\n",
      "  -0.05787401  0.17257562]\n",
      " [ 0.0469265  -0.01737619  0.11785696  0.20232779  0.15164664 -0.41399863\n",
      "  -0.3248828  -0.0561676  -0.18317664  0.0131311  -0.20154856  0.2539916\n",
      "  -0.38150886  0.17032948  0.21566549  0.35994658 -0.13080242 -0.29188278\n",
      "   0.03968023 -0.23934233]]>, <Variable path=sequential_37/lstm_37/lstm_cell/bias, shape=(20,), dtype=float32, value=[-0.03331747 -0.02394164 -0.02778363 -0.03380553  0.0108329   0.9669839\n",
      "  0.97597724  0.97217137  0.9662843   1.021701    0.03409916  0.0334756\n",
      "  0.03374349  0.03460113  0.01378055 -0.03288116 -0.02381041 -0.02709934\n",
      " -0.03346496  0.01430946]>]\n"
     ]
    }
   ],
   "source": [
    "weight = model.get_weights()\n",
    "print(model.weights)"
   ]
  },
  {
   "cell_type": "code",
   "execution_count": 378,
   "id": "2620df93",
   "metadata": {},
   "outputs": [],
   "source": [
    "arr = np.array([[1,2], [3,4], [9, 9]])\n",
    "x = LSTMScratch(5, weight)"
   ]
  },
  {
   "cell_type": "code",
   "execution_count": 379,
   "id": "5cbde2a7",
   "metadata": {},
   "outputs": [
    {
     "data": {
      "text/plain": [
       "array([-0.19015739, -0.0630859 ,  0.10618754, -0.27462613,  0.45055029])"
      ]
     },
     "execution_count": 379,
     "metadata": {},
     "output_type": "execute_result"
    }
   ],
   "source": [
    "x.predict(X[:5])\n",
    "# model.predict(arr)"
   ]
  },
  {
   "cell_type": "code",
   "execution_count": null,
   "id": "2e48e7d5",
   "metadata": {},
   "outputs": [],
   "source": [
    "array([-0.19015739, -0.0630859 ,  0.10618754, -0.27462613,  0.45055029])\n",
    "\n",
    "[[-0.17868511 -0.0073087   0.04492623 -0.2070542   0.33834067]\n",
    " [-0.1722766   0.08218046 -0.07089911 -0.27539545  0.35626215]\n",
    " [-0.11461253  0.03432412 -0.02614582 -0.19594355  0.33535776]\n",
    " [-0.15979825  0.03069684 -0.00911366 -0.2144333   0.32882914]\n",
    " [-0.18552595 -0.06563866  0.10684092 -0.26994315  0.4476928 ]]"
   ]
  }
 ],
 "metadata": {
  "kernelspec": {
   "display_name": "Python 3",
   "language": "python",
   "name": "python3"
  },
  "language_info": {
   "codemirror_mode": {
    "name": "ipython",
    "version": 3
   },
   "file_extension": ".py",
   "mimetype": "text/x-python",
   "name": "python",
   "nbconvert_exporter": "python",
   "pygments_lexer": "ipython3",
   "version": "3.11.9"
  }
 },
 "nbformat": 4,
 "nbformat_minor": 5
}
