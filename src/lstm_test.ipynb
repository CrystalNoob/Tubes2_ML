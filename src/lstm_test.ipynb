{
 "cells": [
  {
   "cell_type": "code",
   "execution_count": null,
   "id": "8e380dea",
   "metadata": {},
   "outputs": [],
   "source": [
    "import keras\n",
    "import numpy as np\n",
    "from LSTM import LSTMScratch\n",
    "import pandas as pd\n",
    "from Embedding import Embedding"
   ]
  },
  {
   "cell_type": "code",
   "execution_count": null,
   "id": "6f7689db",
   "metadata": {},
   "outputs": [],
   "source": [
    "import numpy as np\n",
    "from numpy.typing import NDArray\n",
    "from typing import Callable, Tuple\n",
    "from keras.src.backend import Variable\n",
    "import keras\n",
    "import tensorflow as tf\n",
    "\n",
    "class LSTMScratch():\n",
    "    def __init__(\n",
    "            self,\n",
    "            units: int, # neuron\n",
    "            keras_weight: list[Variable],   # weight from keras\n",
    "            activation: Callable[[NDArray[np.float64]], NDArray[np.float64]] = np.tanh, # activation function\n",
    "    ):\n",
    "        self.units = units\n",
    "        self.kernel, self.recurrent_kernel, self.bias = keras_weight\n",
    "        self.h_t = []\n",
    "        self.c_t = []\n",
    "        self.activation = activation\n",
    "\n",
    "    def fit(self, input_feature: NDArray[np.float64]):\n",
    "        self.input_feature = input_feature\n",
    "\n",
    "    def predict(self, input_feature):\n",
    "        if isinstance(input_feature, tf.Tensor):\n",
    "            input_feature = input_feature.numpy() # type: ignore\n",
    "        sample = input_feature.shape[0]\n",
    "        timestep = input_feature.shape[1]\n",
    "        for i in range(sample):\n",
    "            current_sample = input_feature[i]\n",
    "            self.temp_h = [np.zeros(self.units)]\n",
    "            self.temp_c = [np.zeros(self.units)]\n",
    "\n",
    "            for j in range(timestep):\n",
    "                h_t, c_t = self.calc(current_sample[j]) \n",
    "                self.temp_h.append(h_t)\n",
    "                self.temp_c.append(c_t)\n",
    "\n",
    "            self.h_t.append(self.temp_h[-1])\n",
    "            self.c_t.append(self.temp_c[-1])\n",
    "        return self.h_t\n",
    "\n",
    "    def calc(self, x_t: NDArray[np.float64]):\n",
    "        w_dot_x = x_t @ self.kernel\n",
    "        u_dot_h = self.temp_h[-1] @ self.recurrent_kernel\n",
    "        result = w_dot_x + u_dot_h + self.bias \n",
    "        k_i, k_f, k_c, k_o = np.split(result, 4, axis=0)\n",
    "\n",
    "        i_t, f_t, o_t = self.sigmoid(k_i), self.sigmoid(k_f), self.sigmoid(k_o)\n",
    "\n",
    "        c_tilde = self.activation(k_c)\n",
    "        c_t = f_t * self.temp_c[-1] + i_t * c_tilde\n",
    "        \n",
    "        h_t = o_t * self.activation(c_t)\n",
    "\n",
    "        return h_t, c_t     \n",
    "\n",
    "    def sigmoid(self, x):\n",
    "        return 1/(1+np.exp(-x))\n"
   ]
  },
  {
   "cell_type": "code",
   "execution_count": 14,
   "id": "be13a648",
   "metadata": {},
   "outputs": [],
   "source": [
    "model = keras.models.Sequential()\n",
    "model.add(keras.layers.LSTM(5))"
   ]
  },
  {
   "cell_type": "code",
   "execution_count": 15,
   "id": "590d0a18",
   "metadata": {},
   "outputs": [],
   "source": [
    "X = np.random.rand(100, 10, 2)\n",
    "y = np.random.rand(100, 1)"
   ]
  },
  {
   "cell_type": "code",
   "execution_count": 16,
   "id": "32fd8eba",
   "metadata": {},
   "outputs": [
    {
     "name": "stdout",
     "output_type": "stream",
     "text": [
      "\u001b[1m7/7\u001b[0m \u001b[32m━━━━━━━━━━━━━━━━━━━━\u001b[0m\u001b[37m\u001b[0m \u001b[1m5s\u001b[0m 18ms/step - loss: 0.3871\n",
      "\u001b[1m1/1\u001b[0m \u001b[32m━━━━━━━━━━━━━━━━━━━━\u001b[0m\u001b[37m\u001b[0m \u001b[1m0s\u001b[0m 360ms/step\n",
      "[[-0.42746967  0.27468234 -0.2032304   0.18286541  0.19074002]\n",
      " [-0.367071    0.20233795 -0.17620282  0.21743988  0.16649815]\n",
      " [-0.4097815   0.26991102 -0.21765153  0.16863544  0.17366153]\n",
      " [-0.3943891   0.25758183 -0.21340916  0.17390485  0.16845536]\n",
      " [-0.4342258   0.24703404 -0.18287928  0.2976126   0.18360014]]\n"
     ]
    }
   ],
   "source": [
    "model.compile(optimizer=\"adam\", loss=\"mse\")\n",
    "model.fit(X, y, epochs=1, batch_size=16)\n",
    "pred = model.predict(X[:5])\n",
    "print(pred)"
   ]
  },
  {
   "cell_type": "code",
   "execution_count": 17,
   "id": "1be0a756",
   "metadata": {},
   "outputs": [],
   "source": [
    "weight = model.get_weights()"
   ]
  },
  {
   "cell_type": "code",
   "execution_count": 18,
   "id": "2620df93",
   "metadata": {},
   "outputs": [],
   "source": [
    "x = LSTMScratch(5, weight)"
   ]
  },
  {
   "cell_type": "code",
   "execution_count": 19,
   "id": "5cbde2a7",
   "metadata": {},
   "outputs": [
    {
     "data": {
      "text/plain": [
       "[array([-0.4274697 ,  0.27468238, -0.20323043,  0.18286545,  0.19074007]),\n",
       " array([-0.36707103,  0.20233806, -0.17620289,  0.21743987,  0.16649819]),\n",
       " array([-0.40978149,  0.26991107, -0.21765158,  0.16863546,  0.17366151]),\n",
       " array([-0.39438912,  0.25758183, -0.2134092 ,  0.17390485,  0.16845541]),\n",
       " array([-0.43422584,  0.24703413, -0.18287929,  0.2976126 ,  0.18360017])]"
      ]
     },
     "execution_count": 19,
     "metadata": {},
     "output_type": "execute_result"
    }
   ],
   "source": [
    "x.predict(X[:5])"
   ]
  },
  {
   "cell_type": "code",
   "execution_count": 20,
   "id": "549a46a7",
   "metadata": {},
   "outputs": [
    {
     "name": "stdout",
     "output_type": "stream",
     "text": [
      "[[ 0.03532427  0.00679311 -0.00832508 -0.02876124  0.00749967]\n",
      " [ 0.02399009  0.00930851  0.00026791  0.00793475 -0.00633904]\n",
      " [ 0.00851871  0.0011163  -0.0164678   0.01314454  0.00840074]\n",
      " [ 0.01997273  0.03011882  0.00491694 -0.02831706 -0.00176409]\n",
      " [ 0.01101295 -0.01723707 -0.00916221  0.01752237  0.01089727]]\n"
     ]
    }
   ],
   "source": [
    "import tensorflow as tf\n",
    "\n",
    "df = pd.read_csv(\"../dataset/rnn/test.csv\")\n",
    "x = df[\"text\"]\n",
    "y_text = df[\"label\"]\n",
    "\n",
    "vectorization = keras.layers.TextVectorization(\n",
    "    max_tokens=1000, output_mode=\"int\", output_sequence_length=5\n",
    ")\n",
    "vectorization.adapt(x)\n",
    "\n",
    "x_vectorized = vectorization(tf.constant(x))  # keluaran tensor int\n",
    "\n",
    "# Embedding\n",
    "embed = Embedding(\n",
    "    input_dim=len(vectorization.get_vocabulary()), output_dim=100\n",
    ")\n",
    "\n",
    "embedded_vectors = embed(x_vectorized)\n",
    "\n",
    "lstm_layer = keras.layers.LSTM(5)\n",
    "lstm_output = lstm_layer(embedded_vectors) \n",
    "\n",
    "print(lstm_output.numpy()[:5])"
   ]
  },
  {
   "cell_type": "code",
   "execution_count": 21,
   "id": "d448ceac",
   "metadata": {},
   "outputs": [
    {
     "data": {
      "text/plain": [
       "[array([ 0.03532428,  0.00679312, -0.00832509, -0.02876125,  0.00749968]),\n",
       " array([ 0.02399009,  0.00930851,  0.00026791,  0.00793476, -0.00633904]),\n",
       " array([ 0.00851871,  0.0011163 , -0.01646781,  0.01314455,  0.00840075]),\n",
       " array([ 0.01997274,  0.03011883,  0.00491693, -0.02831707, -0.00176409]),\n",
       " array([ 0.01101295, -0.01723708, -0.00916222,  0.01752238,  0.01089727])]"
      ]
     },
     "execution_count": 21,
     "metadata": {},
     "output_type": "execute_result"
    }
   ],
   "source": [
    "scratch_lstm = LSTMScratch(5, lstm_layer.get_weights())\n",
    "pred = scratch_lstm.predict(embedded_vectors)\n",
    "pred[:5]"
   ]
  },
  {
   "cell_type": "code",
   "execution_count": 22,
   "id": "782e6ec5",
   "metadata": {},
   "outputs": [],
   "source": [
    "# import pandas as pd\n",
    "# from tensorflow import keras\n",
    "\n",
    "# # Load data\n",
    "# df = pd.read_csv(\"../dataset/rnn/test.csv\")\n",
    "# x = df[\"text\"]\n",
    "# y_text = df[\"label\"]\n",
    "\n",
    "# # Text vectorization layer\n",
    "# vectorization = keras.layers.TextVectorization(\n",
    "#     max_tokens=1000, output_mode=\"int\", output_sequence_length=5\n",
    "# )\n",
    "# vectorization.adapt(x)\n",
    "\n",
    "# # Define model input\n",
    "# inputs = keras.Input(shape=(1,), dtype=\"string\")  # sesuai dengan input x (string)\n",
    "# x_vectorized = vectorization(inputs)              # gunakan vectorization sebagai layer\n",
    "# embed = keras.layers.Embedding(\n",
    "#     input_dim=len(vectorization.get_vocabulary()), output_dim=100\n",
    "# )(x_vectorized)\n",
    "# lstm = keras.layers.LSTM(5)(embed)\n",
    "# outputs = keras.layers.Dense(1, activation=\"sigmoid\")(lstm)\n",
    "\n",
    "# # Build model\n",
    "# model = keras.Model(inputs, outputs)\n",
    "# model.summary()"
   ]
  }
 ],
 "metadata": {
  "kernelspec": {
   "display_name": "Python 3",
   "language": "python",
   "name": "python3"
  },
  "language_info": {
   "codemirror_mode": {
    "name": "ipython",
    "version": 3
   },
   "file_extension": ".py",
   "mimetype": "text/x-python",
   "name": "python",
   "nbconvert_exporter": "python",
   "pygments_lexer": "ipython3",
   "version": "3.11.9"
  }
 },
 "nbformat": 4,
 "nbformat_minor": 5
}
