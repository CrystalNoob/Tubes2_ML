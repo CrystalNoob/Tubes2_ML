{
 "cells": [
  {
   "cell_type": "code",
   "execution_count": null,
   "id": "867fee55",
   "metadata": {},
   "outputs": [],
   "source": [
    "from keras.layers import TextVectorization, Embedding, SimpleRNN, Bidirectional, Dropout, Dense\n",
    "from keras.models import Sequential\n",
    "import numpy as np\n",
    "import pandas as pd"
   ]
  },
  {
   "cell_type": "markdown",
   "id": "3774230c",
   "metadata": {},
   "source": [
    "### Load Data"
   ]
  },
  {
   "cell_type": "code",
   "execution_count": null,
   "id": "9f0b32b6",
   "metadata": {},
   "outputs": [],
   "source": [
    "# Database already separated, so kind\n",
    "train_df = pd.read_csv(\"../dataset/rnn/train.csv\")\n",
    "test_df = pd.read_csv(\"../dataset/rnn/test.csv\")"
   ]
  },
  {
   "cell_type": "code",
   "execution_count": null,
   "id": "204936bb",
   "metadata": {},
   "outputs": [],
   "source": [
    "train_df.head()"
   ]
  },
  {
   "cell_type": "markdown",
   "id": "b09bcaba",
   "metadata": {},
   "source": [
    "### Cleaning Data"
   ]
  },
  {
   "cell_type": "code",
   "execution_count": null,
   "id": "22ffd609",
   "metadata": {},
   "outputs": [],
   "source": [
    "label_mapping = {\"negative\": 0,\n",
    "                 \"neutral\": 1,\n",
    "                 \"positive\": 2\n",
    "                 }\n",
    "\n",
    "# Take text and label only\n",
    "train_df = train_df[[\"text\", \"label\"]]\n",
    "test_df = test_df[[\"text\", \"label\"]]\n",
    "\n",
    "# Warning!!! Not idempotent operations :(\n",
    "train_df[\"label\"] = train_df[\"label\"].map(label_mapping)\n",
    "test_df[\"label\"] = test_df[\"label\"].map(label_mapping)"
   ]
  },
  {
   "cell_type": "code",
   "execution_count": null,
   "id": "ae3b13a7",
   "metadata": {},
   "outputs": [],
   "source": [
    "# Sanity check, the label should be mapped to 0, 1, or 2\n",
    "train_df"
   ]
  },
  {
   "cell_type": "markdown",
   "id": "26a43352",
   "metadata": {},
   "source": [
    "### Separate Text and Label"
   ]
  },
  {
   "cell_type": "code",
   "execution_count": null,
   "id": "877ffa22",
   "metadata": {},
   "outputs": [],
   "source": [
    "train_texts = train_df[\"text\"].tolist()\n",
    "train_labels = train_df[\"label\"].tolist()\n",
    "\n",
    "test_texts = test_df[\"text\"].tolist()\n",
    "test_labels = test_df[\"label\"].tolist()"
   ]
  },
  {
   "cell_type": "markdown",
   "id": "50296526",
   "metadata": {},
   "source": [
    "### Tokenizer"
   ]
  },
  {
   "cell_type": "code",
   "execution_count": null,
   "id": "17be3bd2",
   "metadata": {},
   "outputs": [],
   "source": [
    "vectorizer = TextVectorization(\n",
    "    output_mode='int'\n",
    ")\n",
    "vectorizer.adapt(train_texts)"
   ]
  },
  {
   "cell_type": "markdown",
   "id": "bb5fb812",
   "metadata": {},
   "source": [
    "### Split Train and Test Data"
   ]
  },
  {
   "cell_type": "code",
   "execution_count": null,
   "id": "2e406c35",
   "metadata": {},
   "outputs": [],
   "source": [
    "x_train = vectorizer(np.array(train_texts))\n",
    "x_test = vectorizer(np.array(test_texts))\n",
    "\n",
    "y_train = np.array(train_labels)\n",
    "y_test = np.array(test_labels)"
   ]
  },
  {
   "cell_type": "code",
   "execution_count": null,
   "id": "f4c16644",
   "metadata": {},
   "outputs": [],
   "source": [
    "x_train"
   ]
  },
  {
   "cell_type": "code",
   "execution_count": null,
   "id": "463c9276",
   "metadata": {},
   "outputs": [],
   "source": [
    "y_train"
   ]
  }
 ],
 "metadata": {
  "kernelspec": {
   "display_name": "venv",
   "language": "python",
   "name": "python3"
  },
  "language_info": {
   "codemirror_mode": {
    "name": "ipython",
    "version": 3
   },
   "file_extension": ".py",
   "mimetype": "text/x-python",
   "name": "python",
   "nbconvert_exporter": "python",
   "pygments_lexer": "ipython3",
   "version": "3.12.10"
  }
 },
 "nbformat": 4,
 "nbformat_minor": 5
}
