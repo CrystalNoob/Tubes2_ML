{
 "cells": [
  {
   "cell_type": "code",
   "execution_count": null,
   "id": "8e380dea",
   "metadata": {},
   "outputs": [],
   "source": [
    "import keras\n",
    "import numpy as np\n",
    "from lstm import LSTMScratch\n",
    "import pandas as pd\n",
    "from Layers.Embedding import Embedding"
   ]
  },
  {
   "cell_type": "code",
   "execution_count": null,
   "id": "549a46a7",
   "metadata": {},
   "outputs": [
    {
     "name": "stdout",
     "output_type": "stream",
     "text": [
      "[[ 0.01738738  0.00054984 -0.00146147 -0.03523355  0.01071618]\n",
      " [ 0.01176027  0.01879282 -0.00843463  0.0197156   0.01719786]\n",
      " [-0.00590661 -0.00814146 -0.00543304  0.00350983  0.00876931]\n",
      " [ 0.00310229  0.01481104 -0.00084093  0.00147859  0.01081158]\n",
      " [ 0.02232325  0.00067978  0.01273542  0.00295634  0.02631428]]\n"
     ]
    }
   ],
   "source": [
    "import tensorflow as tf\n",
    "\n",
    "df_train = pd.read_csv(\"../dataset/rnn/test.csv\")\n",
    "x_train = df_train[\"text\"]\n",
    "y_train = df_train[\"label\"]\n",
    "\n",
    "vectorization = keras.layers.TextVectorization(\n",
    "    max_tokens=1000, output_mode=\"int\", output_sequence_length=5\n",
    ")\n",
    "vectorization.adapt(x_train)\n",
    "\n",
    "x_vectorized = vectorization(tf.constant(x_train))\n",
    "\n",
    "embed = Embedding(\n",
    "    input_dim=len(vectorization.get_vocabulary()), output_dim=100\n",
    ")\n",
    "\n",
    "embedded_vectors = embed(x_vectorized)\n",
    "\n",
    "lstm_layer = keras.layers.LSTM(5)\n",
    "lstm_output = lstm_layer(embedded_vectors) \n",
    "\n",
    "print(lstm_output.numpy()[:5])"
   ]
  },
  {
   "cell_type": "code",
   "execution_count": 31,
   "id": "d448ceac",
   "metadata": {},
   "outputs": [
    {
     "data": {
      "text/plain": [
       "[array([ 0.01738738,  0.00054984, -0.00146146, -0.03523357,  0.01071619]),\n",
       " array([ 0.01176028,  0.01879283, -0.00843463,  0.01971561,  0.01719786]),\n",
       " array([-0.00590662, -0.00814145, -0.00543304,  0.00350983,  0.00876931]),\n",
       " array([ 0.00310229,  0.01481105, -0.00084093,  0.00147859,  0.01081158]),\n",
       " array([0.02232326, 0.00067978, 0.01273542, 0.00295634, 0.02631428])]"
      ]
     },
     "execution_count": 31,
     "metadata": {},
     "output_type": "execute_result"
    }
   ],
   "source": [
    "scratch_lstm = LSTMScratch(5, lstm_layer.get_weights())\n",
    "pred = scratch_lstm.predict(embedded_vectors)\n",
    "pred[:5]"
   ]
  },
  {
   "cell_type": "code",
   "execution_count": null,
   "id": "ece8e929",
   "metadata": {},
   "outputs": [],
   "source": [
    "# model = keras.models.Sequential()\n",
    "# model.add(keras.layers.LSTM(5))\n",
    "\n",
    "# X = np.random.rand(100, 10, 2)\n",
    "# y = np.random.rand(100, 1)\n",
    "\n",
    "# model.compile(optimizer=\"adam\", loss=\"mse\")\n",
    "# model.fit(X, y, epochs=1, batch_size=16)\n",
    "# pred = model.predict(X[:5])\n",
    "# print(pred)\n",
    "\n",
    "# weight = model.get_weights()\n",
    "# x = LSTMScratch(5, weight)\n",
    "# x.predict(X[:5])"
   ]
  }
 ],
 "metadata": {
  "kernelspec": {
   "display_name": "Python 3",
   "language": "python",
   "name": "python3"
  },
  "language_info": {
   "codemirror_mode": {
    "name": "ipython",
    "version": 3
   },
   "file_extension": ".py",
   "mimetype": "text/x-python",
   "name": "python",
   "nbconvert_exporter": "python",
   "pygments_lexer": "ipython3",
   "version": "3.11.9"
  }
 },
 "nbformat": 4,
 "nbformat_minor": 5
}
